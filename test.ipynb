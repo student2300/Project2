{
 "cells": [
  {
   "cell_type": "code",
   "execution_count": 1,
   "metadata": {},
   "outputs": [],
   "source": [
    "import requests\n",
    "import subprocess"
   ]
  },
  {
   "cell_type": "code",
   "execution_count": 33,
   "metadata": {},
   "outputs": [],
   "source": [
    "def run_command(command):\n",
    "    return subprocess.check_output(command, shell=True, text=True)\n",
    "\n",
    "def api_calls(method: str, url: str, data: dict=None, heads : dict=None):\n",
    "    if method == 'GET':\n",
    "        response = requests.get(url=url).json()\n",
    "    if method == 'POST':\n",
    "        response = requests.post(url=url, headers=heads, json=data)\n",
    "    return response"
   ]
  },
  {
   "cell_type": "code",
   "execution_count": 37,
   "metadata": {},
   "outputs": [
    {
     "data": {
      "text/plain": [
       "['README.md', 'res.json', 'test.ipynb', 'venv']"
      ]
     },
     "execution_count": 37,
     "metadata": {},
     "output_type": "execute_result"
    }
   ],
   "source": [
    "jk = run_command('ls')\n",
    "jk.split()"
   ]
  },
  {
   "cell_type": "code",
   "execution_count": 22,
   "metadata": {},
   "outputs": [
    {
     "name": "stdout",
     "output_type": "stream",
     "text": [
      "33505efa40f7db2f20434289c3a4ed762048f40abfc86bbddf6450d2f4841a67  -\n"
     ]
    }
   ],
   "source": [
    "!npx -y prettier@3.4.2 README.md | sha256sum"
   ]
  }
 ],
 "metadata": {
  "kernelspec": {
   "display_name": "LLM_proj_kernel",
   "language": "python",
   "name": "llm_proj_kernel"
  },
  "language_info": {
   "codemirror_mode": {
    "name": "ipython",
    "version": 3
   },
   "file_extension": ".py",
   "mimetype": "text/x-python",
   "name": "python",
   "nbconvert_exporter": "python",
   "pygments_lexer": "ipython3",
   "version": "3.11.2"
  }
 },
 "nbformat": 4,
 "nbformat_minor": 2
}
